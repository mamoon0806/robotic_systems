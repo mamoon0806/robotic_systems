{
  "nbformat": 4,
  "nbformat_minor": 0,
  "metadata": {
    "colab": {
      "provenance": [],
      "authorship_tag": "ABX9TyNIRW1QpMlBS7s2t/dDiPbO",
      "include_colab_link": true
    },
    "kernelspec": {
      "name": "python3",
      "display_name": "Python 3"
    },
    "language_info": {
      "name": "python"
    }
  },
  "cells": [
    {
      "cell_type": "markdown",
      "metadata": {
        "id": "view-in-github",
        "colab_type": "text"
      },
      "source": [
        "<a href=\"https://colab.research.google.com/github/mamoon0806/robotic_systems/blob/main/HW5_q2.ipynb\" target=\"_parent\"><img src=\"https://colab.research.google.com/assets/colab-badge.svg\" alt=\"Open In Colab\"/></a>"
      ]
    },
    {
      "cell_type": "code",
      "execution_count": null,
      "metadata": {
        "id": "B0xQXJ-b4bF1"
      },
      "outputs": [],
      "source": [
        "import numpy as np\n",
        "import matplotlib.pyplot as plt\n",
        "from sklearn.neighbors import KDTree\n",
        "import cv2\n",
        "from google.colab.patches import cv2_imshow\n",
        "\n",
        "def remove_obstacle_points_edges(image, points, edges):\n",
        "    valid_points = []\n",
        "    valid_edges = []\n",
        "\n",
        "    for point in points:\n",
        "        x, y = point\n",
        "        if image[int(x), int(y)] == 0:  # Check if the point is within an obstacle\n",
        "            continue\n",
        "        valid_points.append(point)\n",
        "\n",
        "    for edge in edges:\n",
        "        point1 = edge[0]\n",
        "        point2 = edge[1]\n",
        "        if not is_edge_valid(image, point1, point2):\n",
        "            continue\n",
        "        valid_edges.append(edge)\n",
        "\n",
        "    return np.array(valid_points), np.array(valid_edges)\n",
        "\n",
        "def is_edge_valid(image, point1, point2):\n",
        "    # Check if the line between point1 and point2 intersects with any obstacle\n",
        "    x1, y1 = point1\n",
        "    x2, y2 = point2\n",
        "    num_points = 100\n",
        "    xs = np.linspace(x1, x2, num_points)\n",
        "    ys = np.linspace(y1, y2, num_points)\n",
        "\n",
        "    for x, y in zip(xs, ys):\n",
        "        if image[int(x), int(y)] == 0:  # Check if the point is within an obstacle\n",
        "            return False\n",
        "\n",
        "    return True\n",
        "\n",
        "def convert_to_absolute_black_and_white(image_path):\n",
        "    # Read the image\n",
        "    img = cv2.imread(image_path, cv2.IMREAD_GRAYSCALE)\n",
        "\n",
        "    # Set a threshold value to create a binary image (absolute black and white)\n",
        "    _, binary_img = cv2.threshold(img, 128, 255, cv2.THRESH_BINARY)\n",
        "\n",
        "    return binary_img\n",
        "\n",
        "\n",
        "def generate_probabilistic_roadmap(image, num_samples, neighbors_threshold):\n",
        "    # Step 1: Sample random points from the image\n",
        "    height, width = image.shape\n",
        "    points = np.random.rand(num_samples, 2) * np.array([height, width])\n",
        "    points = np.append(points, [[87, 28]], axis=0)\n",
        "    points = np.append(points, [[228, 637]], axis=0)\n",
        "    print(points)\n",
        "\n",
        "    # Step 2: Build a KD-Tree for efficient nearest neighbor search\n",
        "    tree = KDTree(points)\n",
        "\n",
        "    # Step 3: Connect points within the specified threshold\n",
        "    edges = []\n",
        "    for i in range(points.shape[0]):\n",
        "        point = points[i]\n",
        "        distances, indices = tree.query([point], k=neighbors_threshold)\n",
        "        for j in range(neighbors_threshold):\n",
        "          edges.append((points[i], points[indices[0][j]]))\n",
        "\n",
        "    filtered_points, filtered_edges = remove_obstacle_points_edges(image, points, edges)\n",
        "\n",
        "    # Step 4: Visualize the roadmap\n",
        "    visualize_roadmap(image, filtered_points, filtered_edges)\n",
        "\n",
        "def visualize_roadmap(image, points, edges):\n",
        "    plt.imshow(image, cmap='gray')\n",
        "    plt.scatter(points[:, 1], points[:, 0], c='red', marker='o')\n",
        "\n",
        "    for edge in edges:\n",
        "        point1 = edge[0]\n",
        "        point2 = edge[1]\n",
        "        plt.plot([point1[1], point2[1]], [point1[0], point2[0]], 'b-', alpha=0.3)\n",
        "\n",
        "    plt.title('Probabilistic Roadmap')\n",
        "    plt.legend()\n",
        "    plt.show()"
      ]
    },
    {
      "cell_type": "code",
      "source": [
        "bw_image = convert_to_absolute_black_and_white('Capture.PNG')\n",
        "num_samples = 5\n",
        "neighbors_threshold = 3\n",
        "generate_probabilistic_roadmap(bw_image, num_samples, neighbors_threshold)"
      ],
      "metadata": {
        "colab": {
          "base_uri": "https://localhost:8080/",
          "height": 479
        },
        "id": "-2drTv7XDV01",
        "outputId": "adcaac1a-dc9e-4142-efed-fa47e01f2e25"
      },
      "execution_count": null,
      "outputs": [
        {
          "output_type": "stream",
          "name": "stderr",
          "text": [
            "WARNING:matplotlib.legend:No artists with labels found to put in legend.  Note that artists whose label start with an underscore are ignored when legend() is called with no argument.\n"
          ]
        },
        {
          "output_type": "stream",
          "name": "stdout",
          "text": [
            "[[ 40.26476688 662.08257607]\n",
            " [240.67475247 578.8393139 ]\n",
            " [129.27288783 564.48581613]\n",
            " [ 59.24288562 330.94210487]\n",
            " [233.31441275 111.77762366]\n",
            " [ 87.          28.        ]\n",
            " [228.         637.        ]]\n"
          ]
        },
        {
          "output_type": "display_data",
          "data": {
            "text/plain": [
              "<Figure size 640x480 with 1 Axes>"
            ],
            "image/png": "[encoded data removed]"
          },
          "metadata": {}
        }
      ]
    }
  ]
}